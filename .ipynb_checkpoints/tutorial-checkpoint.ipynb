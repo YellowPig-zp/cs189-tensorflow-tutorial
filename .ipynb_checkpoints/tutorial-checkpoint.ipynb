{
 "cells": [
  {
   "cell_type": "markdown",
   "metadata": {},
   "source": []
  },
  {
   "cell_type": "code",
   "execution_count": 1,
   "metadata": {},
   "outputs": [
    {
     "name": "stderr",
     "output_type": "stream",
     "text": [
      "/Library/Frameworks/Python.framework/Versions/3.6/lib/python3.6/site-packages/h5py/__init__.py:36: FutureWarning: Conversion of the second argument of issubdtype from `float` to `np.floating` is deprecated. In future, it will be treated as `np.float64 == np.dtype(float).type`.\n",
      "  from ._conv import register_converters as _register_converters\n"
     ]
    }
   ],
   "source": [
    "import tensorflow as tf\n",
    "import numpy as np\n",
    "import matplotlib.pyplot as plt"
   ]
  },
  {
   "cell_type": "code",
   "execution_count": 2,
   "metadata": {},
   "outputs": [],
   "source": [
    "def visualize_digit(img):\n",
    "    img = img.reshape((28,28))\n",
    "    plt.imshow(img, cmap=\"gray\")\n",
    "    plt.show()"
   ]
  },
  {
   "cell_type": "code",
   "execution_count": 3,
   "metadata": {},
   "outputs": [],
   "source": [
    "def vectoried_generate_onehot_vector(labels):\n",
    "    onehot = np.zeros((len(labels), 10))\n",
    "    onehot[np.arange(len(labels)), labels] = 1\n",
    "    return onehot"
   ]
  },
  {
   "cell_type": "code",
   "execution_count": 4,
   "metadata": {},
   "outputs": [],
   "source": [
    "def generate_onehot_vector(labels):\n",
    "    num_samples = len(labels)\n",
    "    onehot = np.zeros((num_samples, 10))\n",
    "    for i in range(num_samples):\n",
    "        label = labels[i]\n",
    "        onehot[i, label] = 1\n",
    "    return onehot"
   ]
  },
  {
   "cell_type": "code",
   "execution_count": 5,
   "metadata": {},
   "outputs": [],
   "source": [
    "X_train = np.load(\"X_train.npy\")[:10000,:]\n",
    "y_train = np.load(\"y_train.npy\")[:10000]\n",
    "X_test = np.load(\"X_test.npy\")[:2000,:]\n",
    "y_test = np.load(\"y_test.npy\")[:2000]"
   ]
  },
  {
   "cell_type": "code",
   "execution_count": 6,
   "metadata": {},
   "outputs": [],
   "source": [
    "y_train_onehot = generate_onehot_vector(y_train)\n",
    "y_test_onehot = vectoried_generate_onehot_vector(y_test)"
   ]
  },
  {
   "cell_type": "code",
   "execution_count": 25,
   "metadata": {},
   "outputs": [],
   "source": [
    "learning_rate = 0.5\n",
    "iterations = 1000\n",
    "layer_1_nodes = 150\n",
    "layer_2_nodes = 150\n",
    "layer_3_nodes = 10"
   ]
  },
  {
   "cell_type": "code",
   "execution_count": 8,
   "metadata": {},
   "outputs": [],
   "source": [
    "X = tf.placeholder(tf.float32, shape=[None, 784])\n",
    "Y = tf.placeholder(tf.float32, shape=[None, 10])"
   ]
  },
  {
   "cell_type": "code",
   "execution_count": 17,
   "metadata": {},
   "outputs": [],
   "source": [
    "w1 = tf.Variable(tf.random_normal(shape=[784, layer_1_nodes], \n",
    "                                           dtype=tf.float32,\n",
    "                                           stddev=1e-1),\n",
    "                                           name=\"weights1\")\n",
    "b1 = tf.Variable(tf.constant(0.0, shape=[layer_1_nodes], dtype=tf.float32), name=\"biases1\")\n",
    "\n",
    "layer_1_output = tf.nn.relu(tf.matmul(X, w1) + b1)\n",
    "\n",
    "\n",
    "w2 = tf.Variable(tf.random_normal(shape=[layer_1_nodes, layer_2_nodes], \n",
    "                                           dtype=tf.float32,\n",
    "                                           stddev=1e-1),\n",
    "                                           name=\"weights2\")\n",
    "b2 = tf.Variable(tf.constant(0.0, shape=[layer_2_nodes], dtype=tf.float32), name=\"biases2\")\n",
    "\n",
    "layer_2_output = tf.nn.relu(tf.matmul(layer_1_output, w2) + b2)\n",
    "\n",
    "\n",
    "w3 = tf.Variable(tf.random_normal(shape=[layer_2_nodes, layer_3_nodes], \n",
    "                                           dtype=tf.float32,\n",
    "                                           stddev=1e-1),\n",
    "                                           name=\"weights1\")\n",
    "b3 = tf.Variable(tf.constant(0.0, shape=[layer_3_nodes], dtype=tf.float32), name=\"biases3\")\n",
    "\n",
    "layer_3_output = tf.nn.sigmoid(tf.matmul(layer_2_output, w3) + b3)\n"
   ]
  },
  {
   "cell_type": "code",
   "execution_count": 21,
   "metadata": {},
   "outputs": [],
   "source": [
    "prediction = layer_3_output\n",
    "cost = tf.losses.softmax_cross_entropy(Y, prediction)"
   ]
  },
  {
   "cell_type": "code",
   "execution_count": 22,
   "metadata": {},
   "outputs": [],
   "source": [
    "optimizer = tf.train.GradientDescentOptimizer(learning_rate).minimize(cost)"
   ]
  },
  {
   "cell_type": "code",
   "execution_count": 27,
   "metadata": {},
   "outputs": [
    {
     "name": "stdout",
     "output_type": "stream",
     "text": [
      "The accuracy rate is  0 0.1001\n",
      "0 2.2739177 2.295417\n",
      "The accuracy rate is  20 0.525\n",
      "20 1.7525375 1.7857511\n",
      "The accuracy rate is  40 0.7599\n",
      "40 1.6067913 1.6551375\n",
      "The accuracy rate is  60 0.8399\n",
      "60 1.5616871 1.6184047\n",
      "The accuracy rate is  80 0.7861\n",
      "80 1.5768911 1.6219339\n",
      "The accuracy rate is  100 0.8659\n",
      "100 1.5405457 1.5947949\n",
      "The accuracy rate is  120 0.9125\n",
      "120 1.5230428 1.5814253\n",
      "The accuracy rate is  140 0.9233\n",
      "140 1.5140766 1.5769596\n",
      "The accuracy rate is  160 0.9308\n",
      "160 1.5126861 1.5758117\n",
      "The accuracy rate is  180 0.9452\n",
      "180 1.5058637 1.5705152\n",
      "The accuracy rate is  200 0.9486\n",
      "200 1.5030378 1.5786334\n",
      "The accuracy rate is  220 0.9514\n",
      "220 1.5005172 1.5756617\n",
      "The accuracy rate is  240 0.9539\n",
      "240 1.4986883 1.5637902\n",
      "The accuracy rate is  260 0.9547\n",
      "260 1.496518 1.577731\n",
      "The accuracy rate is  280 0.9191\n",
      "280 1.5093781 1.5839953\n",
      "The accuracy rate is  300 0.9561\n",
      "300 1.4955449 1.5719793\n",
      "The accuracy rate is  320 0.9565\n",
      "320 1.4948666 1.5774096\n",
      "The accuracy rate is  340 0.9576\n",
      "340 1.4944202 1.5763348\n",
      "The accuracy rate is  360 0.9575\n",
      "360 1.4938017 1.5766797\n",
      "The accuracy rate is  380 0.9587\n",
      "380 1.4933536 1.5758793\n",
      "The accuracy rate is  400 0.9585\n",
      "400 1.4933387 1.5764631\n",
      "The accuracy rate is  420 0.9585\n",
      "420 1.4932641 1.5783235\n",
      "The accuracy rate is  440 0.9585\n",
      "440 1.4932637 1.5782769\n",
      "The accuracy rate is  460 0.9584\n",
      "460 1.4932481 1.5786372\n",
      "The accuracy rate is  480 0.9584\n",
      "480 1.4932481 1.5784677\n",
      "The accuracy rate is  500 0.9584\n",
      "500 1.4932481 1.5783447\n",
      "The accuracy rate is  520 0.9584\n",
      "520 1.4932481 1.578248\n",
      "The accuracy rate is  540 0.9584\n",
      "540 1.4932481 1.5781689\n",
      "The accuracy rate is  560 0.9584\n",
      "560 1.4932481 1.5781013\n",
      "The accuracy rate is  580 0.9584\n",
      "580 1.4932481 1.578044\n",
      "The accuracy rate is  600 0.9584\n",
      "600 1.4932481 1.5779933\n",
      "The accuracy rate is  620 0.9584\n",
      "620 1.4932481 1.5779475\n",
      "The accuracy rate is  640 0.9584\n",
      "640 1.4932481 1.5779035\n",
      "The accuracy rate is  660 0.9585\n",
      "660 1.4932481 1.5778527\n",
      "The accuracy rate is  680 0.9584\n",
      "680 1.4932343 1.5776689\n",
      "The accuracy rate is  700 0.9584\n",
      "700 1.493207 1.5780464\n",
      "The accuracy rate is  720 0.9584\n",
      "720 1.4931934 1.578427\n",
      "The accuracy rate is  740 0.9584\n",
      "740 1.4931934 1.5784731\n",
      "The accuracy rate is  760 0.9584\n",
      "760 1.4931934 1.5785015\n",
      "The accuracy rate is  780 0.9584\n",
      "780 1.4931934 1.5785203\n",
      "The accuracy rate is  800 0.9584\n",
      "800 1.4931933 1.578534\n",
      "The accuracy rate is  820 0.9584\n",
      "820 1.4931933 1.5785449\n",
      "The accuracy rate is  840 0.9584\n",
      "840 1.4931933 1.5785542\n",
      "The accuracy rate is  860 0.9584\n",
      "860 1.4931933 1.5785633\n",
      "The accuracy rate is  880 0.9584\n",
      "880 1.4931933 1.5785735\n",
      "The accuracy rate is  900 0.9585\n",
      "900 1.4931933 1.5785869\n",
      "The accuracy rate is  920 0.9585\n",
      "920 1.4931933 1.578611\n",
      "The accuracy rate is  940 0.9583\n",
      "940 1.4931773 1.5789747\n",
      "The accuracy rate is  960 0.9583\n",
      "960 1.4931773 1.5789224\n",
      "The accuracy rate is  980 0.9584\n",
      "980 1.4931773 1.5788935\n",
      "Training is complete!\n",
      "Final Training cost: 1.4931772947311401\n",
      "Final Testing cost: 1.5788755416870117\n"
     ]
    }
   ],
   "source": [
    "saver = tf.train.Saver()\n",
    "\n",
    "with tf.Session() as session:\n",
    "    \n",
    "    session.run(tf.global_variables_initializer())\n",
    "    \n",
    "    for i in range(iterations):\n",
    "        session.run(optimizer, feed_dict={X: X_train, Y: y_train_onehot})\n",
    "        \n",
    "        if i % 20 == 0:\n",
    "            training_cost = session.run(cost, feed_dict={X: X_train, Y:y_train_onehot})\n",
    "            testing_cost = session.run(cost, feed_dict={X: X_test, Y: y_test_onehot})\n",
    "            current_prediction = session.run(prediction, feed_dict={X: X_train, Y:y_train_onehot})\n",
    "            current_prediction = np.argmax(current_prediction, axis=1)\n",
    "            accuracy = sum(current_prediction==y_train) / len(y_train)\n",
    "            print(\"The accuracy rate is \", i, accuracy)\n",
    "            print(i, training_cost, testing_cost)\n",
    "            \n",
    "    # Training is now complete!\n",
    "    print(\"Training is complete!\")\n",
    "\n",
    "    final_training_cost = session.run(cost, feed_dict={X: X_train, Y:y_train_onehot})\n",
    "    final_testing_cost = session.run(cost, feed_dict={X: X_test, Y: y_test_onehot})\n",
    "\n",
    "    print(\"Final Training cost: {}\".format(final_training_cost))\n",
    "    print(\"Final Testing cost: {}\".format(final_testing_cost))\n",
    "    saver.save(session, \"./tmp/model.ckpt\")\n",
    "    "
   ]
  },
  {
   "cell_type": "code",
   "execution_count": 30,
   "metadata": {},
   "outputs": [
    {
     "name": "stdout",
     "output_type": "stream",
     "text": [
      "INFO:tensorflow:Restoring parameters from ./tmp/model.ckpt\n",
      "0.902\n"
     ]
    }
   ],
   "source": [
    "saver = tf.train.Saver()\n",
    "\n",
    "with tf.Session() as session:\n",
    "    saver.restore(session, \"./tmp/model.ckpt\")\n",
    "    current_prediction = session.run(prediction, feed_dict={X: X_test, Y:y_test_onehot})\n",
    "    current_prediction = np.argmax(current_prediction, axis=1)\n",
    "    accuracy = sum(current_prediction==y_test) / len(y_test)\n",
    "    print(accuracy)"
   ]
  },
  {
   "cell_type": "code",
   "execution_count": null,
   "metadata": {},
   "outputs": [],
   "source": []
  }
 ],
 "metadata": {
  "kernelspec": {
   "display_name": "Python 3",
   "language": "python",
   "name": "python3"
  },
  "language_info": {
   "codemirror_mode": {
    "name": "ipython",
    "version": 3
   },
   "file_extension": ".py",
   "mimetype": "text/x-python",
   "name": "python",
   "nbconvert_exporter": "python",
   "pygments_lexer": "ipython3",
   "version": "3.6.5"
  }
 },
 "nbformat": 4,
 "nbformat_minor": 2
}
